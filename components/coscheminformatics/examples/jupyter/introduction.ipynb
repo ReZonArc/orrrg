{
 "cells": [
  {
   "cell_type": "markdown",
   "id": "863ffc75",
   "metadata": {},
   "source": [
    "# Import\n",
    "\n",
    "Import the 1) AtomSpace, 2) standard AtomSpace types and 3) cheminformatics types"
   ]
  },
  {
   "cell_type": "code",
   "execution_count": null,
   "id": "a553221f",
   "metadata": {},
   "outputs": [],
   "source": [
    "import mevis as mv\n",
    "from opencog.atomspace import AtomSpace\n",
    "from opencog.type_constructors import *\n",
    "from opencog.cheminformatics import *"
   ]
  },
  {
   "cell_type": "markdown",
   "id": "8143a88f",
   "metadata": {},
   "source": [
    "## Preliminary definitions"
   ]
  },
  {
   "cell_type": "code",
   "execution_count": null,
   "id": "438fe089",
   "metadata": {},
   "outputs": [],
   "source": [
    "def assign_bond_color(atom1, atom2):\n",
    "    if atom1.type_name=='SB' or atom1.type_name=='SB':\n",
    "        return 'black'\n",
    "    if atom1.type_name=='DB' or atom1.type_name=='DB':\n",
    "        return 'blue'\n",
    "    if atom1.type_name=='TB' or atom1.type_name=='TB':\n",
    "        return 'cyan'\n",
    "    if atom1.type_name=='AB' or atom1.type_name=='AB':\n",
    "        return 'green'\n",
    "    return 'black'\n",
    "\n",
    "\n",
    "def assign_bond_size(atom1, atom2):\n",
    "    if atom1.type_name=='SB' or atom1.type_name=='SB':\n",
    "        return 5\n",
    "    if atom1.type_name=='DB' or atom1.type_name=='DB':\n",
    "        return 10\n",
    "    if atom1.type_name=='TB' or atom1.type_name=='TB':\n",
    "        return 15\n",
    "    if atom1.type_name=='AB' or atom1.type_name=='AB':\n",
    "        return 7.5\n",
    "    return 1\n",
    "\n",
    "\n",
    "def plot_molecule(atomspace, molecule, **kwargs):\n",
    "    kwargs['graph_height'] = kwargs.get('graph_height', 250)\n",
    "    fig = mv.plot(\n",
    "        atomspace,\n",
    "        filter_target=lambda node: node.type_name != 'Molecule' and contains(molecule, node),\n",
    "        layout_method='neato',\n",
    "        node_size=lambda atom: 30 if atom.is_node() else 0,\n",
    "        node_shape='circle',\n",
    "        node_label=lambda atom: atom.type_name if atom.is_node() else '',\n",
    "        node_label_size=30,\n",
    "        graph_directed=False,\n",
    "        edge_color=assign_bond_color,\n",
    "        edge_size=assign_bond_size,\n",
    "        **kwargs,\n",
    "    )\n",
    "    fig.display(inline=True)\n",
    "\n",
    "\n",
    "def plot_bond(atomspace, bond, **kwargs):\n",
    "    kwargs['graph_height'] = kwargs.get('graph_height', 100)\n",
    "    plot_molecule(atomspace, bond, **kwargs)\n",
    "\n",
    "\n",
    "def contains(atom, target):\n",
    "    if target == atom:\n",
    "        return True\n",
    "    return any(contains(part, target) for part in atom.out)"
   ]
  },
  {
   "cell_type": "markdown",
   "id": "d7a07c99",
   "metadata": {},
   "source": [
    "# Create an AtomSpace"
   ]
  },
  {
   "cell_type": "code",
   "execution_count": null,
   "id": "fdd12aa4",
   "metadata": {},
   "outputs": [],
   "source": [
    "ats = AtomSpace()\n",
    "set_default_atomspace(ats)"
   ]
  },
  {
   "cell_type": "markdown",
   "id": "7349ee29",
   "metadata": {},
   "source": [
    "# Create chemical entities"
   ]
  },
  {
   "cell_type": "markdown",
   "id": "97127dbe",
   "metadata": {},
   "source": [
    "## 1) Atom\n",
    "\n",
    "Rules:\n",
    "- Atoms must have names. The names can be anything.\n",
    "- Two atoms with the same type and name are treated as identical. Only a single object will be created."
   ]
  },
  {
   "cell_type": "code",
   "execution_count": null,
   "id": "8c8dd97b",
   "metadata": {},
   "outputs": [],
   "source": [
    "H('42')"
   ]
  },
  {
   "cell_type": "code",
   "execution_count": null,
   "id": "2696bc67",
   "metadata": {},
   "outputs": [],
   "source": [
    "carbon = C('alpha')\n",
    "carbon"
   ]
  },
  {
   "cell_type": "code",
   "execution_count": null,
   "id": "6399cdab",
   "metadata": {},
   "outputs": [],
   "source": [
    "O('A particular oxygen atom with a long identifier')"
   ]
  },
  {
   "cell_type": "code",
   "execution_count": null,
   "id": "f7155a6d",
   "metadata": {},
   "outputs": [],
   "source": [
    "N('♖ Nitrogen with unicode characters ♘')"
   ]
  },
  {
   "cell_type": "code",
   "execution_count": null,
   "id": "4f5d1852",
   "metadata": {},
   "outputs": [],
   "source": [
    "atom1 = H('101')\n",
    "atom2 = H('102')\n",
    "atom3 = H('101')  # same hydrogen!\n",
    "\n",
    "print(atom1 == atom2)\n",
    "print(atom1 == atom3)"
   ]
  },
  {
   "cell_type": "markdown",
   "id": "ef6cd998",
   "metadata": {},
   "source": [
    "## 2) Bond\n",
    "\n",
    "Bonds need to contain a list of two atoms.\n",
    "\n",
    "### Single bond"
   ]
  },
  {
   "cell_type": "code",
   "execution_count": null,
   "id": "35a3be7c",
   "metadata": {},
   "outputs": [],
   "source": [
    "bond1 = SB(C('a'), H('b'))\n",
    "bond1"
   ]
  },
  {
   "cell_type": "markdown",
   "id": "023d8b0b",
   "metadata": {},
   "source": [
    "### Double bond"
   ]
  },
  {
   "cell_type": "code",
   "execution_count": null,
   "id": "05d8daaa",
   "metadata": {},
   "outputs": [],
   "source": [
    "bond2 = DB(C('a'), N('b'))\n",
    "bond2"
   ]
  },
  {
   "cell_type": "markdown",
   "id": "812bd6d5",
   "metadata": {},
   "source": [
    "### Triple bond"
   ]
  },
  {
   "cell_type": "code",
   "execution_count": null,
   "id": "35c0387c",
   "metadata": {},
   "outputs": [],
   "source": [
    "bond3 = TB(C('a'), O('b'))\n",
    "bond3"
   ]
  },
  {
   "cell_type": "markdown",
   "id": "2c324a72",
   "metadata": {},
   "source": [
    "### Aromatic bond"
   ]
  },
  {
   "cell_type": "code",
   "execution_count": null,
   "id": "ccdd17a4",
   "metadata": {},
   "outputs": [],
   "source": [
    "bond4 = AB(C('a'), S('b'))\n",
    "bond4"
   ]
  },
  {
   "cell_type": "code",
   "execution_count": null,
   "id": "a534bf0c",
   "metadata": {
    "scrolled": false
   },
   "outputs": [],
   "source": [
    "plot_bond(ats, bond1)\n",
    "plot_bond(ats, bond2)\n",
    "plot_bond(ats, bond3)\n",
    "plot_bond(ats, bond4)"
   ]
  },
  {
   "cell_type": "markdown",
   "id": "dda4f938",
   "metadata": {},
   "source": [
    "## 3) Molecule"
   ]
  },
  {
   "cell_type": "markdown",
   "id": "82da2ac5",
   "metadata": {},
   "source": [
    "- [Methane](https://en.wikipedia.org/wiki/Methane) with four single bonds"
   ]
  },
  {
   "cell_type": "code",
   "execution_count": null,
   "id": "eabfc5ff",
   "metadata": {},
   "outputs": [],
   "source": [
    "Molecule(\n",
    "    SB(C('1'), H('1')),\n",
    "    SB(C('1'), H('2')),\n",
    "    SB(C('1'), H('3')),\n",
    "    SB(C('1'), H('4')),\n",
    ")"
   ]
  },
  {
   "cell_type": "markdown",
   "id": "f6e851dc",
   "metadata": {},
   "source": [
    "- [Carbon dioxide](https://en.wikipedia.org/wiki/Carbon_dioxide) with two double bonds"
   ]
  },
  {
   "cell_type": "code",
   "execution_count": null,
   "id": "05e26957",
   "metadata": {},
   "outputs": [],
   "source": [
    "carbon_dioxide = Molecule(\n",
    "    DB(C('a'), O('a')),\n",
    "    DB(C('a'), O('b')),\n",
    ")\n",
    "\n",
    "carbon_dioxide"
   ]
  },
  {
   "cell_type": "markdown",
   "id": "ea1e0f0b",
   "metadata": {},
   "source": [
    "- [Carbon monoxide](https://en.wikipedia.org/wiki/Carbon_monoxide) with one triple bond"
   ]
  },
  {
   "cell_type": "code",
   "execution_count": null,
   "id": "94b9edcc",
   "metadata": {},
   "outputs": [],
   "source": [
    "carbon_monoxide = Molecule(\n",
    "    TB(C('castor'), O('pollux'))\n",
    ")"
   ]
  },
  {
   "cell_type": "markdown",
   "id": "40360894",
   "metadata": {},
   "source": [
    "- [Phenol](https://en.wikipedia.org/wiki/Phenol) with 6 aromatic bonds and 7 single bonds"
   ]
  },
  {
   "cell_type": "code",
   "execution_count": null,
   "id": "b339d0ec",
   "metadata": {},
   "outputs": [],
   "source": [
    "phenol = Molecule(\n",
    "    AB(C('3_1'), C('3_2')),\n",
    "    AB(C('3_2'), C('3_3')),\n",
    "    AB(C('3_3'), C('3_4')),\n",
    "    AB(C('3_4'), C('3_5')),\n",
    "    AB(C('3_5'), C('3_6')),\n",
    "    AB(C('3_6'), C('3_1')),\n",
    "    \n",
    "    SB(C('3_1'), O('3_7')),\n",
    "    SB(O('3_7'), H('3_8')),\n",
    "    SB(C('3_2'), H('3_9')),\n",
    "    SB(C('3_3'), H('3_10')),\n",
    "    SB(C('3_4'), H('3_11')),\n",
    "    SB(C('3_5'), H('3_12')),\n",
    "    SB(C('3_6'), H('3_13')),\n",
    ")\n",
    "\n",
    "phenol"
   ]
  },
  {
   "cell_type": "markdown",
   "id": "a6710710",
   "metadata": {},
   "source": [
    "## 4) Reaction"
   ]
  },
  {
   "cell_type": "code",
   "execution_count": null,
   "id": "f2d454fc",
   "metadata": {},
   "outputs": [],
   "source": [
    "ats = AtomSpace()\n",
    "set_default_atomspace(ats)"
   ]
  },
  {
   "cell_type": "code",
   "execution_count": null,
   "id": "fe4f276e",
   "metadata": {},
   "outputs": [],
   "source": [
    "esterification = BindLink(\n",
    "    # Variable definition\n",
    "    VariableList(\n",
    "        # Typed variables: match to specific atoms\n",
    "        TypedVariableLink(VariableNode(\"$carboxylH1\"), TypeNode('H')),\n",
    "        TypedVariableLink(VariableNode(\"$carboxylO1\"), TypeNode('O')),\n",
    "        TypedVariableLink(VariableNode(\"$carboxylC1\"), TypeNode('C')),\n",
    "        TypedVariableLink(VariableNode(\"$carboxylO2\"), TypeNode('O')),\n",
    "        TypedVariableLink(VariableNode(\"$hydroxylH1\"), TypeNode('H')),\n",
    "        TypedVariableLink(VariableNode(\"$hydroxylO1\"), TypeNode('O')),\n",
    "        \n",
    "        # Untyped variables: match to everything\n",
    "        VariableNode(\"carboxyl moiety\"),\n",
    "        VariableNode(\"hydroxyl moiety\"),\n",
    "        GlobNode(\"rest of carboxyl\"),\n",
    "        GlobNode(\"rest of hydroxyl\"),\n",
    "    ),\n",
    "    # Premise: Functional groups found in some educts\n",
    "    AndLink(\n",
    "        # 1) Carboxyl group\n",
    "        Molecule(\n",
    "            DB(VariableNode(\"$carboxylC1\"), VariableNode(\"$carboxylO2\")),\n",
    "            SB(VariableNode(\"$carboxylC1\"), VariableNode(\"$carboxylO1\")),\n",
    "            SB(VariableNode(\"$carboxylO1\"), VariableNode(\"$carboxylH1\")),\n",
    "            SB(VariableNode(\"$carboxylC1\"), VariableNode(\"carboxyl moiety\")),\n",
    "            # Globs match one or more bonds by default, but the interval can be changed manually\n",
    "            GlobNode(\"rest of carboxyl\"),\n",
    "        ),\n",
    "        \n",
    "        # The above will happily match `$carboxyO1` and `carboxy moiety`\n",
    "        # to the same atom. But we don't want that, so demand that they be distinct.\n",
    "        NotLink(IdenticalLink(VariableNode(\"$carboxylO1\"), VariableNode(\"carboxyl moiety\"))),\n",
    "        \n",
    "        # 2) Hydroxyl group\n",
    "        Molecule(\n",
    "            SB(VariableNode(\"$hydroxylO1\"), VariableNode(\"$hydroxylH1\")),\n",
    "            SB(VariableNode(\"hydroxyl moiety\"), VariableNode(\"$hydroxylO1\")),\n",
    "            GlobNode(\"rest of hydroxyl\"),\n",
    "        ),\n",
    "        NotLink(IdenticalLink(VariableNode(\"$hydroxylH1\"), VariableNode(\"hydroxyl moiety\"))),\n",
    "        \n",
    "        # 3) Further constraints\n",
    "        NotLink(IdenticalLink(\n",
    "            SB(VariableNode(\"$hydroxylO1\"), VariableNode(\"$hydroxylH1\")),\n",
    "            SB(VariableNode(\"$carboxylO1\"), VariableNode(\"$carboxylH1\")),\n",
    "        )),\n",
    "    ),\n",
    "    \n",
    "    # Clause: Formation of products\n",
    "    AndLink(\n",
    "        # Produce ester\n",
    "        Molecule(\n",
    "            DB(VariableNode(\"$carboxylC1\"), VariableNode(\"$carboxylO2\")),\n",
    "            SB(VariableNode(\"$carboxylC1\"), VariableNode(\"$carboxylO1\")),\n",
    "            SB(VariableNode(\"$carboxylC1\"), VariableNode(\"carboxyl moiety\")),\n",
    "            GlobNode(\"rest of carboxyl\"),\n",
    "            \n",
    "            SB(VariableNode(\"$carboxylO1\"), VariableNode(\"hydroxyl moiety\")),\n",
    "            GlobNode(\"rest of hydroxyl\"),\n",
    "        ),\n",
    "        # Produce water\n",
    "        Molecule(\n",
    "            SB(VariableNode(\"$hydroxylO1\"), VariableNode(\"$carboxylH1\")),\n",
    "            SB(VariableNode(\"$hydroxylO1\"), VariableNode(\"$hydroxylH1\")),\n",
    "        ),\n",
    "    )\n",
    ")"
   ]
  },
  {
   "cell_type": "code",
   "execution_count": null,
   "id": "7f040f47",
   "metadata": {},
   "outputs": [],
   "source": [
    "m1 = Molecule(\n",
    "    DB(C(\"ca_1\"), O(\"ca_2\")),\n",
    "    SB(C(\"ca_1\"), O(\"ca_3\")),\n",
    "    SB(O(\"ca_3\"), H(\"ca_4\")),\n",
    "    SB(C(\"ca_1\"), Fe(\"ca_5\")),\n",
    "    SB(Fe(\"ca_5\"), Ni(\"ca_6\")),\n",
    ")\n",
    "\n",
    "m2 = Molecule(\n",
    "    SB(O(\"hy_1\"), H(\"hy_2\")),\n",
    "    SB(C(\"hy_3\"), O(\"hy_1\")),\n",
    "    SB(C(\"hy_3\"), Zn(\"hy_4\")),\n",
    "    SB(Zn(\"hy_4\"), Cu(\"hy_5\")),\n",
    ")\n",
    "\n",
    "plot_molecule(ats, m1)\n",
    "plot_molecule(ats, m2)"
   ]
  },
  {
   "cell_type": "code",
   "execution_count": null,
   "id": "7d5da07e",
   "metadata": {
    "scrolled": false
   },
   "outputs": [],
   "source": [
    "from opencog.bindlink import execute_atom\n",
    "\n",
    "res = execute_atom(ats, esterification)\n",
    "for i, solution in enumerate(res.out, 1):\n",
    "    print('# Solution {}'.format(i))\n",
    "    for j, mol in enumerate(solution.out, 1):\n",
    "        print('## Molecule {}'.format(j))\n",
    "        plot_molecule(ats, mol)"
   ]
  }
 ],
 "metadata": {
  "kernelspec": {
   "display_name": "Python 3 (ipykernel)",
   "language": "python",
   "name": "python3"
  },
  "language_info": {
   "codemirror_mode": {
    "name": "ipython",
    "version": 3
   },
   "file_extension": ".py",
   "mimetype": "text/x-python",
   "name": "python",
   "nbconvert_exporter": "python",
   "pygments_lexer": "ipython3",
   "version": "3.8.13"
  }
 },
 "nbformat": 4,
 "nbformat_minor": 5
}
