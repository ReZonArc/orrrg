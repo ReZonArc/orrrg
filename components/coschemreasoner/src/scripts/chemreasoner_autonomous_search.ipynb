{
 "cells": [
  {
   "cell_type": "code",
   "execution_count": 2,
   "id": "1f18b2b8",
   "metadata": {},
   "outputs": [
    {
     "data": {
      "text/plain": [
       "\"\\n\\nInput :\\n1) Objective for catalyst recommendation (string). Example 'recommend a catalyst for reaction X'\\n2) initial constraint descriptions. Example ['limit to bimetallic', 'recommend trimetallic']\\n\\nOutput:\\nList of candidates with structural configurations \\n\""
      ]
     },
     "execution_count": 2,
     "metadata": {},
     "output_type": "execute_result"
    }
   ],
   "source": [
    "#!/usr/bin/python\n",
    "# chemreasoner: autonomous search for catalyst design\n",
    "\n",
    "\"\"\"\n",
    "Input :\n",
    "1) Objective for catalyst recommendation (string). Example 'recommend a catalyst for reaction X'\n",
    "2) initial constraint descriptions. Example ['limit to bimetallic', 'recommend trimetallic']\n",
    "3) gnn_iter_0 = base_gnn_model\n",
    "4) reaction network/pathways\n",
    "Output:\n",
    "List of candidates with structural configurations and expected reward, explanation of why these are good candidates?\n",
    "\"\"\""
   ]
  },
  {
   "cell_type": "code",
   "execution_count": 3,
   "id": "96434d5e",
   "metadata": {},
   "outputs": [],
   "source": [
    "#algorithm\n",
    "# step 1 : Given $obj use LLM to generate list of top-N catalysts candidates $cands , statisying $constraint\n",
    "# example candidates = ['CuZn', 'CuAlZn'...] using exiting method\n",
    "#        $cands = chemreasoner_macroscopic_search_using_LLM($obj, $constraint)\n",
    "#        \n",
    "\n",
    "\n",
    "\n",
    "# Step 2 : for cand in $cands generate list of recommended structural configurations $rec_structural_configs. \n",
    "# The microstructure planner will also generate_possible_ratios for the base candidates\n",
    "# example output {\n",
    "#                 'CuZn' : [{'miller_index' : 211, bulk_structure : \"material_id\", cell_shift: \"\", bulk_element_ratio : {Cu:1,Zn:1}}, \n",
    "#                           {'miller_index' : 111, bulk : \"\", cell_shift: \"\"}]\n",
    "#                 'CuAlZn' :[{'miller_index' : 211, bulk : \"\", cell_shift: \"\"}], \n",
    "#                 ....\n",
    "#                }\n",
    "#\n",
    "#\n",
    "#        for $cand in $cands\n",
    "#             list_rec_structural_configs = microstructure_planner($cand,  $objective, surface=\"\",)\n",
    "#             rec_structural_configs[cand] = list_rec_structural_configs\n",
    "#\n",
    "\n",
    "## Question SC: where do we need to introduce the ratio of different metals , \n",
    "## is it after step1  or after step 3, we can extrapolate gnn output of base candidates to only select top few and explore their ratios "
   ]
  },
  {
   "cell_type": "code",
   "execution_count": 4,
   "id": "75b0374e",
   "metadata": {},
   "outputs": [],
   "source": [
    "# Step 3: \n",
    "# Set up GNN runs for all configuration and run all in parallel\n",
    "# for gnn_config in $rec_structural_configs:\n",
    "#      cfgs = generate_gnn_input(gnn_config)\n",
    "# adsorption_energies = run_all_gnn_configs(gnn_iter_i, cfgs, reaction_pathways)\n",
    "# determine_gnn_configs_to_run_uq\n",
    "# gnn_cfgs_for_uq, activitation_barriers = relaxation(reaction_pathways)\n",
    "#\n",
    "# Step 4:\n",
    "# topk_coordinates_for_dft, descriptors_with_high_uncertainity = uq.run(gnn_cfgs_for_uq, activitation_barriers, adsorption_energies)\n",
    " "
   ]
  },
  {
   "cell_type": "code",
   "execution_count": null,
   "id": "61158d09",
   "metadata": {},
   "outputs": [],
   "source": [
    "##Step 5\n",
    "## dft_results  = dfts.run(topk_cfgs)\n",
    "#\n",
    "#Step 6 :\n",
    "## Fine-tune existing GNN with simulation ouputs.\"\n",
    "## gnn_iter_i+1 = finetune(dft_results, topk_cfgs)"
   ]
  },
  {
   "cell_type": "code",
   "execution_count": null,
   "id": "339a9d2f",
   "metadata": {},
   "outputs": [],
   "source": []
  }
 ],
 "metadata": {
  "kernelspec": {
   "display_name": "LLM",
   "language": "python",
   "name": "llm"
  },
  "language_info": {
   "codemirror_mode": {
    "name": "ipython",
    "version": 3
   },
   "file_extension": ".py",
   "mimetype": "text/x-python",
   "name": "python",
   "nbconvert_exporter": "python",
   "pygments_lexer": "ipython3",
   "version": "3.9.18"
  }
 },
 "nbformat": 4,
 "nbformat_minor": 5
}
